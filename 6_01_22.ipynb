{
  "cells": [
    {
      "cell_type": "code",
      "execution_count": null,
      "metadata": {
        "id": "B_sd4zvg_ZJm",
        "outputId": "bd975e72-65ba-4c9f-8e26-99b63df2eaef"
      },
      "outputs": [
        {
          "name": "stdout",
          "output_type": "stream",
          "text": [
            "Requirement already satisfied: pandas in /home/mca/anaconda3/lib/python3.9/site-packages (1.3.4)\n",
            "Requirement already satisfied: python-dateutil>=2.7.3 in /home/mca/anaconda3/lib/python3.9/site-packages (from pandas) (2.8.2)\n",
            "Requirement already satisfied: pytz>=2017.3 in /home/mca/anaconda3/lib/python3.9/site-packages (from pandas) (2021.3)\n",
            "Requirement already satisfied: numpy>=1.17.3 in /home/mca/anaconda3/lib/python3.9/site-packages (from pandas) (1.20.3)\n",
            "Requirement already satisfied: six>=1.5 in /home/mca/anaconda3/lib/python3.9/site-packages (from python-dateutil>=2.7.3->pandas) (1.16.0)\n",
            "Note: you may need to restart the kernel to use updated packages.\n"
          ]
        }
      ],
      "source": [
        "pip install pandas"
      ],
      "id": "B_sd4zvg_ZJm"
    },
    {
      "cell_type": "code",
      "execution_count": 5,
      "metadata": {
        "id": "fKxHH7Pf_ZJp"
      },
      "outputs": [],
      "source": [
        "import pandas as pd\n"
      ],
      "id": "fKxHH7Pf_ZJp"
    },
    {
      "cell_type": "code",
      "execution_count": 6,
      "metadata": {
        "colab": {
          "base_uri": "https://localhost:8080/"
        },
        "id": "IOukaLEm_ZJr",
        "outputId": "4e6cec40-ec35-4c40-8291-f44682681f22"
      },
      "outputs": [
        {
          "output_type": "stream",
          "name": "stdout",
          "text": [
            "0     2\n",
            "1     4\n",
            "2     6\n",
            "3     8\n",
            "4    10\n",
            "dtype: int64\n",
            "2\n"
          ]
        }
      ],
      "source": [
        "#create and display one dimensional array like object containing an array of data\n",
        "\n",
        "ds=pd.Series([2,4,6,8,10])\n",
        "print(ds)\n",
        "print(ds[0])"
      ],
      "id": "IOukaLEm_ZJr"
    },
    {
      "cell_type": "code",
      "execution_count": 7,
      "metadata": {
        "colab": {
          "base_uri": "https://localhost:8080/"
        },
        "id": "wJumLysP_ZJs",
        "outputId": "fe0cfb24-09d6-4e5f-8e81-a93b36272c28"
      },
      "outputs": [
        {
          "output_type": "stream",
          "name": "stdout",
          "text": [
            "ADDITION OF 2 SERIES \n",
            " 0     3\n",
            "1     7\n",
            "2    11\n",
            "3    15\n",
            "4    19\n",
            "dtype: int64\n",
            "SUBSTRACTION OF 2 SERIES \n",
            "  0   -1\n",
            "1   -1\n",
            "2   -1\n",
            "3   -1\n",
            "4   -1\n",
            "dtype: int64\n",
            "MULTIPLICATION OF 2 SERIES \n",
            "  0     2\n",
            "1    12\n",
            "2    30\n",
            "3    56\n",
            "4    90\n",
            "dtype: int64\n",
            "DIVISION OF 2 SERIES \n",
            " 0    0.500000\n",
            "1    0.750000\n",
            "2    0.833333\n",
            "3    0.875000\n",
            "4    0.900000\n",
            "dtype: float64\n"
          ]
        }
      ],
      "source": [
        "#pandas program to add substract multiply and divide two pandas series\n",
        "import pandas as pd\n",
        "ds1=pd.Series([1,3,5,7,9])\n",
        "ds2=pd.Series([2,4,6,8,10])\n",
        "ds=ds1+ds2\n",
        "print(\"ADDITION OF 2 SERIES \\n\",ds)\n",
        "ds=ds1-ds2\n",
        "print(\"SUBSTRACTION OF 2 SERIES \\n \",ds)\n",
        "ds=ds1*ds2\n",
        "print(\"MULTIPLICATION OF 2 SERIES \\n \",ds)\n",
        "ds=ds1/ds2\n",
        "print(\"DIVISION OF 2 SERIES \\n\",ds)"
      ],
      "id": "wJumLysP_ZJs"
    },
    {
      "cell_type": "code",
      "execution_count": 8,
      "metadata": {
        "colab": {
          "base_uri": "https://localhost:8080/"
        },
        "id": "c71TZpr__ZJt",
        "outputId": "6342ccc3-da54-43a0-b912-3fe9dc107872"
      },
      "outputs": [
        {
          "output_type": "stream",
          "name": "stdout",
          "text": [
            "day1    420\n",
            "day2    380\n",
            "day3    390\n",
            "dtype: int64\n"
          ]
        }
      ],
      "source": [
        "#create a simpl pandas series from a dictionary\n",
        "\n",
        "import pandas as pd\n",
        "\n",
        "calories={\"day1\":420,\"day2\":380,\"day3\":390}\n",
        "\n",
        "a=pd.Series(calories)\n",
        "\n",
        "print(a)"
      ],
      "id": "c71TZpr__ZJt"
    },
    {
      "cell_type": "code",
      "execution_count": null,
      "metadata": {
        "id": "YNWKxBAb_ZJu",
        "outputId": "eaa87e20-a6cd-4a71-9e06-030583e1b074"
      },
      "outputs": [
        {
          "name": "stdout",
          "output_type": "stream",
          "text": [
            "Numpy array: [10 20 30 40 50]\n",
            "0    10\n",
            "1    20\n",
            "2    30\n",
            "3    40\n",
            "4    50\n",
            "dtype: int64\n"
          ]
        }
      ],
      "source": [
        "#pandas pgm to convert a numpy array to pandas series.\n",
        "\n",
        "import numpy as np\n",
        "import pandas as pd\n",
        "na=np.array([10,20,30,40,50])\n",
        "print(\"Numpy array:\",na)\n",
        "newseries=pd.Series(na)\n",
        "print(newseries)"
      ],
      "id": "YNWKxBAb_ZJu"
    },
    {
      "cell_type": "code",
      "execution_count": 9,
      "metadata": {
        "colab": {
          "base_uri": "https://localhost:8080/"
        },
        "id": "R4j0LEhd_ZJw",
        "outputId": "a5d2ff83-31a5-488b-a79e-4a9e156b2b84"
      },
      "outputs": [
        {
          "output_type": "stream",
          "name": "stdout",
          "text": [
            "\n",
            "\n",
            "Original data series:\n",
            " 0     1\n",
            "1     2\n",
            "2     3\n",
            "3     4\n",
            "4     5\n",
            "5     6\n",
            "6     7\n",
            "7     8\n",
            "8     9\n",
            "9     5\n",
            "10    3\n",
            "dtype: int64\n",
            "Mean of the series: 4.818181818181818\n",
            "Standard deviation of series: 2.522624895547565\n"
          ]
        }
      ],
      "source": [
        "#write a pandas pgm to find the mean and standard deviation of the data of given series\n",
        "\n",
        "import pandas as pd\n",
        "s=pd.Series(data=[1,2,3,4,5,6,7,8,9,5,3])\n",
        "print(\"\\n\")\n",
        "print(\"Original data series:\\n\",s)\n",
        "print(\"Mean of the series:\",s.mean())\n",
        "print(\"Standard deviation of series:\",s.std())"
      ],
      "id": "R4j0LEhd_ZJw"
    },
    {
      "cell_type": "code",
      "execution_count": 10,
      "metadata": {
        "id": "UAf0c24R_ZJx"
      },
      "outputs": [],
      "source": [
        "#pandas data frame - table structure"
      ],
      "id": "UAf0c24R_ZJx"
    },
    {
      "cell_type": "code",
      "execution_count": 11,
      "metadata": {
        "colab": {
          "base_uri": "https://localhost:8080/"
        },
        "id": "tAY4CmYZ_ZJy",
        "outputId": "ea953ea4-59d2-435c-ed2c-1b703d877193"
      },
      "outputs": [
        {
          "output_type": "stream",
          "name": "stdout",
          "text": [
            "{'calories': [420, 380, 398], 'duration': [50, 48, 45]}\n",
            "   calories  duration\n",
            "0       420        50\n",
            "1       380        48\n",
            "2       398        45\n"
          ]
        }
      ],
      "source": [
        "#simple dataframe\n",
        "import pandas as pd\n",
        "data={\n",
        "    \"calories\":[420,380,398],\n",
        "    \"duration\":[50,48,45]\n",
        "}\n",
        "print(data)\n",
        "#load data into dataframe object\n",
        "df=pd.DataFrame(data)\n",
        "print(df)"
      ],
      "id": "tAY4CmYZ_ZJy"
    },
    {
      "cell_type": "code",
      "execution_count": 12,
      "metadata": {
        "colab": {
          "base_uri": "https://localhost:8080/"
        },
        "id": "gxPPxJeh_ZJz",
        "outputId": "945572fa-8091-47d4-e78b-ce6a2490e62e"
      },
      "outputs": [
        {
          "output_type": "stream",
          "name": "stdout",
          "text": [
            "     name  degree   scr\n",
            "0  aparna     MBA  9.54\n",
            "1  pankaj     MCA  8.50\n",
            "2     anu    M.Sc  9.00\n",
            "3   selin  M.tech  9.64\n",
            "\n",
            "\n",
            "   Unnamed: 0    name  degree   scr\n",
            "0           0  aparna     MBA  9.54\n",
            "1           1  pankaj     MCA  8.50\n",
            "2           2     anu    M.Sc  9.00\n",
            "3           3   selin  M.tech  9.64\n"
          ]
        }
      ],
      "source": [
        "import pandas as pd\n",
        "\n",
        "#list of name,degree,score\n",
        "\n",
        "name=[\"aparna\",\"pankaj\",\"anu\",\"selin\"]\n",
        "deg=[\"MBA\",\"MCA\",\"M.Sc\",\"M.tech\"]\n",
        "scr=[9.54,8.5,9.0,9.64]\n",
        "#dictionary of list\n",
        "dict1={\"name\":name,\"degree\":deg,\"scr\":scr}\n",
        "df1=pd.DataFrame(dict1)\n",
        "print(df1)\n",
        "#saving as dataframe\n",
        "#saving dataframe as csv file\n",
        "df1.to_csv('file2.csv')\n",
        "df2=pd.read_csv('file2.csv')\n",
        "print(\"\\n\")\n",
        "print(df2)"
      ],
      "id": "gxPPxJeh_ZJz"
    },
    {
      "cell_type": "code",
      "execution_count": 13,
      "metadata": {
        "colab": {
          "base_uri": "https://localhost:8080/"
        },
        "id": "3d0VXKLh_ZJ0",
        "outputId": "8a860f9c-635f-4ce6-a417-ccace0c9e3c5"
      },
      "outputs": [
        {
          "output_type": "stream",
          "name": "stdout",
          "text": [
            "calories    420\n",
            "duration     50\n",
            "Name: 0, dtype: int64\n"
          ]
        }
      ],
      "source": [
        "#pandas use the loc attribute to return one or one specified row():\n",
        "print(df.loc[0])"
      ],
      "id": "3d0VXKLh_ZJ0"
    },
    {
      "cell_type": "code",
      "execution_count": 14,
      "metadata": {
        "colab": {
          "base_uri": "https://localhost:8080/"
        },
        "id": "99IYstSw_ZJ1",
        "outputId": "d9a32432-214c-4e5f-e222-ad1ee35f884f"
      },
      "outputs": [
        {
          "output_type": "stream",
          "name": "stdout",
          "text": [
            "   calories  duration\n",
            "0       420        50\n"
          ]
        }
      ],
      "source": [
        "print(df.loc[[0]])"
      ],
      "id": "99IYstSw_ZJ1"
    },
    {
      "cell_type": "code",
      "execution_count": 15,
      "metadata": {
        "colab": {
          "base_uri": "https://localhost:8080/"
        },
        "id": "qnUW6lfj_ZJ2",
        "outputId": "411131ba-dff2-40d7-adfd-478394b52185"
      },
      "outputs": [
        {
          "output_type": "stream",
          "name": "stdout",
          "text": [
            "   calories  duration\n",
            "0       420        50\n",
            "1       380        48\n"
          ]
        }
      ],
      "source": [
        "print(df.loc[[0,1]])"
      ],
      "id": "qnUW6lfj_ZJ2"
    },
    {
      "cell_type": "code",
      "execution_count": 16,
      "metadata": {
        "colab": {
          "base_uri": "https://localhost:8080/"
        },
        "id": "ovhgffbq_ZJ2",
        "outputId": "8680aae4-dddc-4654-c5c4-487b1ccfb5af"
      },
      "outputs": [
        {
          "output_type": "stream",
          "name": "stdout",
          "text": [
            "      calories  duration\n",
            "day1       430        50\n",
            "day2       309        45\n",
            "day3       378        40\n"
          ]
        }
      ],
      "source": [
        "import pandas as pd\n",
        "\n",
        "data={\n",
        "    \"calories\":[430,309,378],\n",
        "    \"duration\":[50,45,40]\n",
        "}\n",
        "df=pd.DataFrame(data,index=[\"day1\",\"day2\",\"day3\"])\n",
        "print(df)"
      ],
      "id": "ovhgffbq_ZJ2"
    },
    {
      "cell_type": "code",
      "execution_count": 17,
      "metadata": {
        "colab": {
          "base_uri": "https://localhost:8080/"
        },
        "id": "MGn_Uvti_ZJ3",
        "outputId": "6d30c709-dd8b-4d91-bc7f-2f8cb32436a2"
      },
      "outputs": [
        {
          "output_type": "stream",
          "name": "stdout",
          "text": [
            "calories    309\n",
            "duration     45\n",
            "Name: day2, dtype: int64\n"
          ]
        }
      ],
      "source": [
        "print(df.loc[\"day2\"])#locate named indexes"
      ],
      "id": "MGn_Uvti_ZJ3"
    },
    {
      "cell_type": "code",
      "execution_count": 18,
      "metadata": {
        "colab": {
          "base_uri": "https://localhost:8080/"
        },
        "id": "iGkNTori_ZJ3",
        "outputId": "c687a02f-51e6-4c9e-da10-e142fdabc5f4"
      },
      "outputs": [
        {
          "output_type": "stream",
          "name": "stdout",
          "text": [
            "      calories  duration\n",
            "day2       309        45\n"
          ]
        }
      ],
      "source": [
        "print(df.loc[[\"day2\"]])"
      ],
      "id": "iGkNTori_ZJ3"
    },
    {
      "cell_type": "code",
      "execution_count": 19,
      "metadata": {
        "colab": {
          "base_uri": "https://localhost:8080/"
        },
        "id": "UBcV4zN4_ZJ4",
        "outputId": "b270e7d8-c89c-47c8-d2d8-b5af9d52769f"
      },
      "outputs": [
        {
          "output_type": "stream",
          "name": "stdout",
          "text": [
            "     name  score  attempt qualify\n",
            "0    Anju   12.5        1     yes\n",
            "1   Benny    9.0        2     yes\n",
            "2   Cathu   18.0        1     yes\n",
            "3    Dinu    NaN        3      no\n",
            "4     Eby    7.0        1     yes\n",
            "5  Farhan   15.0        1     yes\n",
            "6  Geetha    NaN        3      no\n",
            "\n",
            "\n",
            "   Unnamed: 0    name  score  attempt qualify\n",
            "0           0    Anju   12.5        1     yes\n",
            "1           1   Benny    9.0        2     yes\n",
            "2           2   Cathu   18.0        1     yes\n",
            "3           3    Dinu    NaN        3      no\n",
            "4           4     Eby    7.0        1     yes\n",
            "5           5  Farhan   15.0        1     yes\n",
            "6           6  Geetha    NaN        3      no\n"
          ]
        }
      ],
      "source": [
        "import pandas as pd\n",
        "import numpy as np\n",
        "\n",
        "name=['Anju','Benny','Cathu','Dinu','Eby','Farhan','Geetha']\n",
        "score=[12.5,9,18,np.nan,7,15,np.nan]\n",
        "attempt=[1,2,1,3,1,1,3]\n",
        "qualify=['yes','yes','yes','no','yes','yes','no']\n",
        "\n",
        "dic={\"name\":name,\"score\":score,\"attempt\":attempt,\"qualify\":qualify}\n",
        "df1=pd.DataFrame(dic)\n",
        "print(df1)\n",
        "\n",
        "df1.to_csv('file3.csv')\n",
        "df2=pd.read_csv('file3.csv')\n",
        "print(\"\\n\")\n",
        "print(df2)"
      ],
      "id": "UBcV4zN4_ZJ4"
    },
    {
      "cell_type": "code",
      "execution_count": null,
      "metadata": {
        "id": "wJX7-dj5_ZJ5",
        "outputId": "98967d2d-4243-4e38-9337-6e2e6e5604f9"
      },
      "outputs": [
        {
          "name": "stdout",
          "output_type": "stream",
          "text": [
            "\n",
            "\n",
            "   Unnamed: 0    name  score  attempt qualify\n",
            "0           0    Anju   12.5        1     yes\n",
            "1           1   Benny    9.0        2     yes\n",
            "2           2   Cathu   18.0        1     yes\n",
            "3           3    Dinu    NaN        3      no\n",
            "4           4     Eby    7.0        1     yes\n",
            "5           5  Farhan   15.0        1     yes\n",
            "6           6  Geetha    NaN        3      no\n",
            "\n",
            "\n",
            "   Unnamed: 0   name  score  attempt qualify\n",
            "0           0   Anju   12.5        1     yes\n",
            "1           1  Benny    9.0        2     yes\n",
            "2           2  Cathu   18.0        1     yes\n"
          ]
        }
      ],
      "source": [
        "#get the first 3 rows of dataset\n",
        "df2=pd.read_csv('file3.csv')\n",
        "print(\"\\n\")\n",
        "print(df2)\n",
        "print(\"\\n\")\n",
        "print(df2.loc[[0,1,2]])"
      ],
      "id": "wJX7-dj5_ZJ5"
    },
    {
      "cell_type": "code",
      "execution_count": null,
      "metadata": {
        "id": "82EGozIA_ZJ5",
        "outputId": "984ec108-dc7c-4e60-9e33-243f76a45036"
      },
      "outputs": [
        {
          "name": "stdout",
          "output_type": "stream",
          "text": [
            "     name  attempt qualify\n",
            "0    Anju        1     yes\n",
            "1   Benny        2     yes\n",
            "2   Cathu        1     yes\n",
            "4     Eby        1     yes\n",
            "6  Geetha        3      no\n"
          ]
        }
      ],
      "source": [
        "#specific columns with specified index\n",
        "print(df2.iloc[[0,1,2,4,6],[1,3,4]])"
      ],
      "id": "82EGozIA_ZJ5"
    },
    {
      "cell_type": "code",
      "execution_count": null,
      "metadata": {
        "id": "KANT4pKd_ZJ6",
        "outputId": "305a3621-9867-4064-8ae0-f488c489487c"
      },
      "outputs": [
        {
          "name": "stdout",
          "output_type": "stream",
          "text": [
            "     name  score\n",
            "0    Anju   12.5\n",
            "1   Benny    9.0\n",
            "2   Cathu   18.0\n",
            "3    Dinu    NaN\n",
            "4     Eby    7.0\n",
            "5  Farhan   15.0\n",
            "6  Geetha    NaN\n"
          ]
        }
      ],
      "source": [
        "#reterive the columns by name and score\n",
        "print(df2[['name','score']])"
      ],
      "id": "KANT4pKd_ZJ6"
    },
    {
      "cell_type": "code",
      "execution_count": null,
      "metadata": {
        "id": "otsV38xi_ZJ7",
        "outputId": "a936a271-48a8-40cd-f77e-ebe791079a5e"
      },
      "outputs": [
        {
          "name": "stdout",
          "output_type": "stream",
          "text": [
            "no of attempts greater than 2\n",
            "   Unnamed: 0    name  score  attempt qualify\n",
            "3           3    Dinu    NaN        3      no\n",
            "6           6  Geetha    NaN        3      no\n"
          ]
        }
      ],
      "source": [
        "#print no of attempts greater than 2\n",
        "print(\"no of attempts greater than 2\")\n",
        "print(df2[df2['attempt']>2])"
      ],
      "id": "otsV38xi_ZJ7"
    },
    {
      "cell_type": "code",
      "execution_count": null,
      "metadata": {
        "id": "PEdBhtH-_ZJ7",
        "outputId": "96f6b95b-5adc-4064-c8ea-5fdd78ac03e7"
      },
      "outputs": [
        {
          "name": "stdout",
          "output_type": "stream",
          "text": [
            "Score where missing\n",
            "   Unnamed: 0    name  score  attempt qualify\n",
            "3           3    Dinu    NaN        3      no\n",
            "6           6  Geetha    NaN        3      no\n"
          ]
        }
      ],
      "source": [
        "#rows where score are missing\n",
        "print(\"Score where missing\")\n",
        "print(df2[df2['score'].isnull()])"
      ],
      "id": "PEdBhtH-_ZJ7"
    },
    {
      "cell_type": "code",
      "execution_count": null,
      "metadata": {
        "id": "AHZi-fxk_ZJ8",
        "outputId": "fcd94ced-f2ad-4ba8-82f3-28da0fa218f0"
      },
      "outputs": [
        {
          "name": "stdout",
          "output_type": "stream",
          "text": [
            "\n",
            "\n",
            "     sepal_length  sepal_width  petal_length  petal_width    species\n",
            "0             5.1          3.5           1.4          0.2     setosa\n",
            "1             4.9          3.0           1.4          0.2     setosa\n",
            "2             4.7          3.2           1.3          0.2     setosa\n",
            "3             4.6          3.1           1.5          0.2     setosa\n",
            "4             5.0          3.6           1.4          0.2     setosa\n",
            "..            ...          ...           ...          ...        ...\n",
            "145           6.7          3.0           5.2          2.3  virginica\n",
            "146           6.3          2.5           5.0          1.9  virginica\n",
            "147           6.5          3.0           5.2          2.0  virginica\n",
            "148           6.2          3.4           5.4          2.3  virginica\n",
            "149           5.9          3.0           5.1          1.8  virginica\n",
            "\n",
            "[150 rows x 5 columns]\n",
            "\n",
            "\n",
            "Printing entire datatset\n",
            "     sepal_length  sepal_width  petal_length  petal_width     species\n",
            "0             5.1          3.5           1.4          0.2      setosa\n",
            "1             4.9          3.0           1.4          0.2      setosa\n",
            "2             4.7          3.2           1.3          0.2      setosa\n",
            "3             4.6          3.1           1.5          0.2      setosa\n",
            "4             5.0          3.6           1.4          0.2      setosa\n",
            "5             5.4          3.9           1.7          0.4      setosa\n",
            "6             4.6          3.4           1.4          0.3      setosa\n",
            "7             5.0          3.4           1.5          0.2      setosa\n",
            "8             4.4          2.9           1.4          0.2      setosa\n",
            "9             4.9          3.1           1.5          0.1      setosa\n",
            "10            5.4          3.7           1.5          0.2      setosa\n",
            "11            4.8          3.4           1.6          0.2      setosa\n",
            "12            4.8          3.0           1.4          0.1      setosa\n",
            "13            4.3          3.0           1.1          0.1      setosa\n",
            "14            5.8          4.0           1.2          0.2      setosa\n",
            "15            5.7          4.4           1.5          0.4      setosa\n",
            "16            5.4          3.9           1.3          0.4      setosa\n",
            "17            5.1          3.5           1.4          0.3      setosa\n",
            "18            5.7          3.8           1.7          0.3      setosa\n",
            "19            5.1          3.8           1.5          0.3      setosa\n",
            "20            5.4          3.4           1.7          0.2      setosa\n",
            "21            5.1          3.7           1.5          0.4      setosa\n",
            "22            4.6          3.6           1.0          0.2      setosa\n",
            "23            5.1          3.3           1.7          0.5      setosa\n",
            "24            4.8          3.4           1.9          0.2      setosa\n",
            "25            5.0          3.0           1.6          0.2      setosa\n",
            "26            5.0          3.4           1.6          0.4      setosa\n",
            "27            5.2          3.5           1.5          0.2      setosa\n",
            "28            5.2          3.4           1.4          0.2      setosa\n",
            "29            4.7          3.2           1.6          0.2      setosa\n",
            "30            4.8          3.1           1.6          0.2      setosa\n",
            "31            5.4          3.4           1.5          0.4      setosa\n",
            "32            5.2          4.1           1.5          0.1      setosa\n",
            "33            5.5          4.2           1.4          0.2      setosa\n",
            "34            4.9          3.1           1.5          0.1      setosa\n",
            "35            5.0          3.2           1.2          0.2      setosa\n",
            "36            5.5          3.5           1.3          0.2      setosa\n",
            "37            4.9          3.1           1.5          0.1      setosa\n",
            "38            4.4          3.0           1.3          0.2      setosa\n",
            "39            5.1          3.4           1.5          0.2      setosa\n",
            "40            5.0          3.5           1.3          0.3      setosa\n",
            "41            4.5          2.3           1.3          0.3      setosa\n",
            "42            4.4          3.2           1.3          0.2      setosa\n",
            "43            5.0          3.5           1.6          0.6      setosa\n",
            "44            5.1          3.8           1.9          0.4      setosa\n",
            "45            4.8          3.0           1.4          0.3      setosa\n",
            "46            5.1          3.8           1.6          0.2      setosa\n",
            "47            4.6          3.2           1.4          0.2      setosa\n",
            "48            5.3          3.7           1.5          0.2      setosa\n",
            "49            5.0          3.3           1.4          0.2      setosa\n",
            "50            7.0          3.2           4.7          1.4  versicolor\n",
            "51            6.4          3.2           4.5          1.5  versicolor\n",
            "52            6.9          3.1           4.9          1.5  versicolor\n",
            "53            5.5          2.3           4.0          1.3  versicolor\n",
            "54            6.5          2.8           4.6          1.5  versicolor\n",
            "55            5.7          2.8           4.5          1.3  versicolor\n",
            "56            6.3          3.3           4.7          1.6  versicolor\n",
            "57            4.9          2.4           3.3          1.0  versicolor\n",
            "58            6.6          2.9           4.6          1.3  versicolor\n",
            "59            5.2          2.7           3.9          1.4  versicolor\n",
            "60            5.0          2.0           3.5          1.0  versicolor\n",
            "61            5.9          3.0           4.2          1.5  versicolor\n",
            "62            6.0          2.2           4.0          1.0  versicolor\n",
            "63            6.1          2.9           4.7          1.4  versicolor\n",
            "64            5.6          2.9           3.6          1.3  versicolor\n",
            "65            6.7          3.1           4.4          1.4  versicolor\n",
            "66            5.6          3.0           4.5          1.5  versicolor\n",
            "67            5.8          2.7           4.1          1.0  versicolor\n",
            "68            6.2          2.2           4.5          1.5  versicolor\n",
            "69            5.6          2.5           3.9          1.1  versicolor\n",
            "70            5.9          3.2           4.8          1.8  versicolor\n",
            "71            6.1          2.8           4.0          1.3  versicolor\n",
            "72            6.3          2.5           4.9          1.5  versicolor\n",
            "73            6.1          2.8           4.7          1.2  versicolor\n",
            "74            6.4          2.9           4.3          1.3  versicolor\n",
            "75            6.6          3.0           4.4          1.4  versicolor\n",
            "76            6.8          2.8           4.8          1.4  versicolor\n",
            "77            6.7          3.0           5.0          1.7  versicolor\n",
            "78            6.0          2.9           4.5          1.5  versicolor\n",
            "79            5.7          2.6           3.5          1.0  versicolor\n",
            "80            5.5          2.4           3.8          1.1  versicolor\n",
            "81            5.5          2.4           3.7          1.0  versicolor\n",
            "82            5.8          2.7           3.9          1.2  versicolor\n",
            "83            6.0          2.7           5.1          1.6  versicolor\n",
            "84            5.4          3.0           4.5          1.5  versicolor\n",
            "85            6.0          3.4           4.5          1.6  versicolor\n",
            "86            6.7          3.1           4.7          1.5  versicolor\n",
            "87            6.3          2.3           4.4          1.3  versicolor\n",
            "88            5.6          3.0           4.1          1.3  versicolor\n",
            "89            5.5          2.5           4.0          1.3  versicolor\n",
            "90            5.5          2.6           4.4          1.2  versicolor\n",
            "91            6.1          3.0           4.6          1.4  versicolor\n",
            "92            5.8          2.6           4.0          1.2  versicolor\n",
            "93            5.0          2.3           3.3          1.0  versicolor\n",
            "94            5.6          2.7           4.2          1.3  versicolor\n",
            "95            5.7          3.0           4.2          1.2  versicolor\n",
            "96            5.7          2.9           4.2          1.3  versicolor\n",
            "97            6.2          2.9           4.3          1.3  versicolor\n",
            "98            5.1          2.5           3.0          1.1  versicolor\n",
            "99            5.7          2.8           4.1          1.3  versicolor\n",
            "100           6.3          3.3           6.0          2.5   virginica\n",
            "101           5.8          2.7           5.1          1.9   virginica\n",
            "102           7.1          3.0           5.9          2.1   virginica\n",
            "103           6.3          2.9           5.6          1.8   virginica\n",
            "104           6.5          3.0           5.8          2.2   virginica\n",
            "105           7.6          3.0           6.6          2.1   virginica\n",
            "106           4.9          2.5           4.5          1.7   virginica\n",
            "107           7.3          2.9           6.3          1.8   virginica\n",
            "108           6.7          2.5           5.8          1.8   virginica\n",
            "109           7.2          3.6           6.1          2.5   virginica\n",
            "110           6.5          3.2           5.1          2.0   virginica\n",
            "111           6.4          2.7           5.3          1.9   virginica\n",
            "112           6.8          3.0           5.5          2.1   virginica\n",
            "113           5.7          2.5           5.0          2.0   virginica\n",
            "114           5.8          2.8           5.1          2.4   virginica\n",
            "115           6.4          3.2           5.3          2.3   virginica\n",
            "116           6.5          3.0           5.5          1.8   virginica\n",
            "117           7.7          3.8           6.7          2.2   virginica\n",
            "118           7.7          2.6           6.9          2.3   virginica\n",
            "119           6.0          2.2           5.0          1.5   virginica\n",
            "120           6.9          3.2           5.7          2.3   virginica\n",
            "121           5.6          2.8           4.9          2.0   virginica\n",
            "122           7.7          2.8           6.7          2.0   virginica\n",
            "123           6.3          2.7           4.9          1.8   virginica\n",
            "124           6.7          3.3           5.7          2.1   virginica\n",
            "125           7.2          3.2           6.0          1.8   virginica\n",
            "126           6.2          2.8           4.8          1.8   virginica\n",
            "127           6.1          3.0           4.9          1.8   virginica\n",
            "128           6.4          2.8           5.6          2.1   virginica\n",
            "129           7.2          3.0           5.8          1.6   virginica\n",
            "130           7.4          2.8           6.1          1.9   virginica\n",
            "131           7.9          3.8           6.4          2.0   virginica\n",
            "132           6.4          2.8           5.6          2.2   virginica\n",
            "133           6.3          2.8           5.1          1.5   virginica\n",
            "134           6.1          2.6           5.6          1.4   virginica\n",
            "135           7.7          3.0           6.1          2.3   virginica\n",
            "136           6.3          3.4           5.6          2.4   virginica\n",
            "137           6.4          3.1           5.5          1.8   virginica\n",
            "138           6.0          3.0           4.8          1.8   virginica\n",
            "139           6.9          3.1           5.4          2.1   virginica\n",
            "140           6.7          3.1           5.6          2.4   virginica\n",
            "141           6.9          3.1           5.1          2.3   virginica\n",
            "142           5.8          2.7           5.1          1.9   virginica\n",
            "143           6.8          3.2           5.9          2.3   virginica\n",
            "144           6.7          3.3           5.7          2.5   virginica\n",
            "145           6.7          3.0           5.2          2.3   virginica\n",
            "146           6.3          2.5           5.0          1.9   virginica\n",
            "147           6.5          3.0           5.2          2.0   virginica\n",
            "148           6.2          3.4           5.4          2.3   virginica\n",
            "149           5.9          3.0           5.1          1.8   virginica\n",
            "Printing the first five elements:\n",
            "    sepal_length  sepal_width  petal_length  petal_width species\n",
            "0           5.1          3.5           1.4          0.2  setosa\n",
            "1           4.9          3.0           1.4          0.2  setosa\n",
            "2           4.7          3.2           1.3          0.2  setosa\n",
            "3           4.6          3.1           1.5          0.2  setosa\n",
            "4           5.0          3.6           1.4          0.2  setosa\n",
            "Printing the last five elements:\n",
            "      sepal_length  sepal_width  petal_length  petal_width    species\n",
            "145           6.7          3.0           5.2          2.3  virginica\n",
            "146           6.3          2.5           5.0          1.9  virginica\n",
            "147           6.5          3.0           5.2          2.0  virginica\n",
            "148           6.2          3.4           5.4          2.3  virginica\n",
            "149           5.9          3.0           5.1          1.8  virginica\n",
            "Size of dataset (150, 5)\n"
          ]
        }
      ],
      "source": [
        "import pandas as pd\n",
        "df3=pd.read_csv('iris.csv')\n",
        "print(\"\\n\")\n",
        "print(df3)\n",
        "print(\"\\n\")\n",
        "print(\"Printing entire datatset\")\n",
        "print(df3.to_string())\n",
        "print(\"Printing the first five elements:\\n\",df3.head())\n",
        "print(\"Printing the last five elements:\\n\",df3.tail())\n",
        "print(\"Size of dataset\",df3.shape)\n"
      ],
      "id": "AHZi-fxk_ZJ8"
    },
    {
      "cell_type": "code",
      "execution_count": null,
      "metadata": {
        "id": "M98bVznS_ZJ8",
        "outputId": "fc620fe1-48bb-4213-872b-e789c5e05212"
      },
      "outputs": [
        {
          "name": "stdout",
          "output_type": "stream",
          "text": [
            "<class 'pandas.core.frame.DataFrame'>\n",
            "RangeIndex: 150 entries, 0 to 149\n",
            "Data columns (total 5 columns):\n",
            " #   Column        Non-Null Count  Dtype  \n",
            "---  ------        --------------  -----  \n",
            " 0   sepal_length  150 non-null    float64\n",
            " 1   sepal_width   150 non-null    float64\n",
            " 2   petal_length  150 non-null    float64\n",
            " 3   petal_width   150 non-null    float64\n",
            " 4   species       150 non-null    object \n",
            "dtypes: float64(4), object(1)\n",
            "memory usage: 6.0+ KB\n"
          ]
        }
      ],
      "source": [
        "df3.info()"
      ],
      "id": "M98bVznS_ZJ8"
    },
    {
      "cell_type": "code",
      "execution_count": null,
      "metadata": {
        "id": "KZw5BBqL_ZJ9",
        "outputId": "c9e533a4-3ccc-45c9-ec33-9ca5f03eea07"
      },
      "outputs": [
        {
          "name": "stdout",
          "output_type": "stream",
          "text": [
            "Description        sepal_length  sepal_width  petal_length  petal_width\n",
            "count    150.000000   150.000000    150.000000   150.000000\n",
            "mean       5.843333     3.054000      3.758667     1.198667\n",
            "std        0.828066     0.433594      1.764420     0.763161\n",
            "min        4.300000     2.000000      1.000000     0.100000\n",
            "25%        5.100000     2.800000      1.600000     0.300000\n",
            "50%        5.800000     3.000000      4.350000     1.300000\n",
            "75%        6.400000     3.300000      5.100000     1.800000\n",
            "max        7.900000     4.400000      6.900000     2.500000\n"
          ]
        },
        {
          "data": {
            "text/html": [
              "<div>\n",
              "<style scoped>\n",
              "    .dataframe tbody tr th:only-of-type {\n",
              "        vertical-align: middle;\n",
              "    }\n",
              "\n",
              "    .dataframe tbody tr th {\n",
              "        vertical-align: top;\n",
              "    }\n",
              "\n",
              "    .dataframe thead th {\n",
              "        text-align: right;\n",
              "    }\n",
              "</style>\n",
              "<table border=\"1\" class=\"dataframe\">\n",
              "  <thead>\n",
              "    <tr style=\"text-align: right;\">\n",
              "      <th></th>\n",
              "      <th>sepal_length</th>\n",
              "      <th>sepal_width</th>\n",
              "      <th>petal_length</th>\n",
              "      <th>petal_width</th>\n",
              "    </tr>\n",
              "  </thead>\n",
              "  <tbody>\n",
              "    <tr>\n",
              "      <th>count</th>\n",
              "      <td>150.000000</td>\n",
              "      <td>150.000000</td>\n",
              "      <td>150.000000</td>\n",
              "      <td>150.000000</td>\n",
              "    </tr>\n",
              "    <tr>\n",
              "      <th>mean</th>\n",
              "      <td>5.843333</td>\n",
              "      <td>3.054000</td>\n",
              "      <td>3.758667</td>\n",
              "      <td>1.198667</td>\n",
              "    </tr>\n",
              "    <tr>\n",
              "      <th>std</th>\n",
              "      <td>0.828066</td>\n",
              "      <td>0.433594</td>\n",
              "      <td>1.764420</td>\n",
              "      <td>0.763161</td>\n",
              "    </tr>\n",
              "    <tr>\n",
              "      <th>min</th>\n",
              "      <td>4.300000</td>\n",
              "      <td>2.000000</td>\n",
              "      <td>1.000000</td>\n",
              "      <td>0.100000</td>\n",
              "    </tr>\n",
              "    <tr>\n",
              "      <th>25%</th>\n",
              "      <td>5.100000</td>\n",
              "      <td>2.800000</td>\n",
              "      <td>1.600000</td>\n",
              "      <td>0.300000</td>\n",
              "    </tr>\n",
              "    <tr>\n",
              "      <th>50%</th>\n",
              "      <td>5.800000</td>\n",
              "      <td>3.000000</td>\n",
              "      <td>4.350000</td>\n",
              "      <td>1.300000</td>\n",
              "    </tr>\n",
              "    <tr>\n",
              "      <th>75%</th>\n",
              "      <td>6.400000</td>\n",
              "      <td>3.300000</td>\n",
              "      <td>5.100000</td>\n",
              "      <td>1.800000</td>\n",
              "    </tr>\n",
              "    <tr>\n",
              "      <th>max</th>\n",
              "      <td>7.900000</td>\n",
              "      <td>4.400000</td>\n",
              "      <td>6.900000</td>\n",
              "      <td>2.500000</td>\n",
              "    </tr>\n",
              "  </tbody>\n",
              "</table>\n",
              "</div>"
            ],
            "text/plain": [
              "       sepal_length  sepal_width  petal_length  petal_width\n",
              "count    150.000000   150.000000    150.000000   150.000000\n",
              "mean       5.843333     3.054000      3.758667     1.198667\n",
              "std        0.828066     0.433594      1.764420     0.763161\n",
              "min        4.300000     2.000000      1.000000     0.100000\n",
              "25%        5.100000     2.800000      1.600000     0.300000\n",
              "50%        5.800000     3.000000      4.350000     1.300000\n",
              "75%        6.400000     3.300000      5.100000     1.800000\n",
              "max        7.900000     4.400000      6.900000     2.500000"
            ]
          },
          "execution_count": 73,
          "metadata": {},
          "output_type": "execute_result"
        }
      ],
      "source": [
        "print(\"Description\",df3.describe())\n",
        "df3.describe()"
      ],
      "id": "KZw5BBqL_ZJ9"
    },
    {
      "cell_type": "code",
      "execution_count": null,
      "metadata": {
        "id": "fE60244o_ZJ9",
        "outputId": "70fca191-350d-4c32-ecf4-0a9441c355ba"
      },
      "outputs": [
        {
          "data": {
            "text/html": [
              "<div>\n",
              "<style scoped>\n",
              "    .dataframe tbody tr th:only-of-type {\n",
              "        vertical-align: middle;\n",
              "    }\n",
              "\n",
              "    .dataframe tbody tr th {\n",
              "        vertical-align: top;\n",
              "    }\n",
              "\n",
              "    .dataframe thead th {\n",
              "        text-align: right;\n",
              "    }\n",
              "</style>\n",
              "<table border=\"1\" class=\"dataframe\">\n",
              "  <thead>\n",
              "    <tr style=\"text-align: right;\">\n",
              "      <th></th>\n",
              "      <th>sepal_length</th>\n",
              "      <th>sepal_width</th>\n",
              "      <th>petal_length</th>\n",
              "      <th>petal_width</th>\n",
              "      <th>species</th>\n",
              "    </tr>\n",
              "  </thead>\n",
              "  <tbody>\n",
              "    <tr>\n",
              "      <th>0</th>\n",
              "      <td>False</td>\n",
              "      <td>False</td>\n",
              "      <td>False</td>\n",
              "      <td>False</td>\n",
              "      <td>False</td>\n",
              "    </tr>\n",
              "    <tr>\n",
              "      <th>1</th>\n",
              "      <td>False</td>\n",
              "      <td>False</td>\n",
              "      <td>False</td>\n",
              "      <td>False</td>\n",
              "      <td>False</td>\n",
              "    </tr>\n",
              "    <tr>\n",
              "      <th>2</th>\n",
              "      <td>False</td>\n",
              "      <td>False</td>\n",
              "      <td>False</td>\n",
              "      <td>False</td>\n",
              "      <td>False</td>\n",
              "    </tr>\n",
              "    <tr>\n",
              "      <th>3</th>\n",
              "      <td>False</td>\n",
              "      <td>False</td>\n",
              "      <td>False</td>\n",
              "      <td>False</td>\n",
              "      <td>False</td>\n",
              "    </tr>\n",
              "    <tr>\n",
              "      <th>4</th>\n",
              "      <td>False</td>\n",
              "      <td>False</td>\n",
              "      <td>False</td>\n",
              "      <td>False</td>\n",
              "      <td>False</td>\n",
              "    </tr>\n",
              "    <tr>\n",
              "      <th>...</th>\n",
              "      <td>...</td>\n",
              "      <td>...</td>\n",
              "      <td>...</td>\n",
              "      <td>...</td>\n",
              "      <td>...</td>\n",
              "    </tr>\n",
              "    <tr>\n",
              "      <th>145</th>\n",
              "      <td>False</td>\n",
              "      <td>False</td>\n",
              "      <td>False</td>\n",
              "      <td>False</td>\n",
              "      <td>False</td>\n",
              "    </tr>\n",
              "    <tr>\n",
              "      <th>146</th>\n",
              "      <td>False</td>\n",
              "      <td>False</td>\n",
              "      <td>False</td>\n",
              "      <td>False</td>\n",
              "      <td>False</td>\n",
              "    </tr>\n",
              "    <tr>\n",
              "      <th>147</th>\n",
              "      <td>False</td>\n",
              "      <td>False</td>\n",
              "      <td>False</td>\n",
              "      <td>False</td>\n",
              "      <td>False</td>\n",
              "    </tr>\n",
              "    <tr>\n",
              "      <th>148</th>\n",
              "      <td>False</td>\n",
              "      <td>False</td>\n",
              "      <td>False</td>\n",
              "      <td>False</td>\n",
              "      <td>False</td>\n",
              "    </tr>\n",
              "    <tr>\n",
              "      <th>149</th>\n",
              "      <td>False</td>\n",
              "      <td>False</td>\n",
              "      <td>False</td>\n",
              "      <td>False</td>\n",
              "      <td>False</td>\n",
              "    </tr>\n",
              "  </tbody>\n",
              "</table>\n",
              "<p>150 rows × 5 columns</p>\n",
              "</div>"
            ],
            "text/plain": [
              "     sepal_length  sepal_width  petal_length  petal_width  species\n",
              "0           False        False         False        False    False\n",
              "1           False        False         False        False    False\n",
              "2           False        False         False        False    False\n",
              "3           False        False         False        False    False\n",
              "4           False        False         False        False    False\n",
              "..            ...          ...           ...          ...      ...\n",
              "145         False        False         False        False    False\n",
              "146         False        False         False        False    False\n",
              "147         False        False         False        False    False\n",
              "148         False        False         False        False    False\n",
              "149         False        False         False        False    False\n",
              "\n",
              "[150 rows x 5 columns]"
            ]
          },
          "execution_count": 81,
          "metadata": {},
          "output_type": "execute_result"
        }
      ],
      "source": [
        "df3.isnull()\n"
      ],
      "id": "fE60244o_ZJ9"
    },
    {
      "cell_type": "code",
      "execution_count": null,
      "metadata": {
        "id": "I0IR4va6_ZJ-",
        "outputId": "b909729e-4379-4653-c327-e9e043e21ab0"
      },
      "outputs": [
        {
          "name": "stdout",
          "output_type": "stream",
          "text": [
            "Empty DataFrame\n",
            "Columns: [sepal_length, sepal_width, petal_length, petal_width, species]\n",
            "Index: []\n"
          ]
        }
      ],
      "source": [
        "print(df3[df3['sepal_length'].isnull()])"
      ],
      "id": "I0IR4va6_ZJ-"
    },
    {
      "cell_type": "code",
      "execution_count": null,
      "metadata": {
        "id": "57lspAFd_ZJ-",
        "outputId": "edc6902b-9074-4830-9c90-c37ffd2cec5a"
      },
      "outputs": [
        {
          "name": "stdout",
          "output_type": "stream",
          "text": [
            "\n",
            "\n",
            "    Duration          Date  Pulse  Maxpulse  Calories\n",
            "0         60  '2020/12/01'    110       130     409.1\n",
            "1         60  '2020/12/02'    117       145     479.0\n",
            "2         60  '2020/12/03'    103       135     340.0\n",
            "3         45  '2020/12/04'    109       175     282.4\n",
            "4         45  '2020/12/05'    117       148     406.0\n",
            "5         60  '2020/12/06'    102       127     300.0\n",
            "6         60  '2020/12/07'    110       136     374.0\n",
            "7        450  '2020/12/08'    104       134     253.3\n",
            "8         30  '2020/12/09'    109       133     195.1\n",
            "9         60  '2020/12/10'     98       124     269.0\n",
            "10        60  '2020/12/11'    103       147     329.3\n",
            "11        60  '2020/12/12'    100       120     250.7\n",
            "12        60  '2020/12/12'    100       120     250.7\n",
            "13        60  '2020/12/13'    106       128     345.3\n",
            "14        60  '2020/12/14'    104       132     379.3\n",
            "15        60  '2020/12/15'     98       123     275.0\n",
            "16        60  '2020/12/16'     98       120     215.2\n",
            "17        60  '2020/12/17'    100       120     300.0\n",
            "18        45  '2020/12/18'     90       112       NaN\n",
            "19        60  '2020/12/19'    103       123     323.0\n",
            "20        45  '2020/12/20'     97       125     243.0\n",
            "21        60  '2020/12/21'    108       131     364.2\n",
            "22        45           NaN    100       119     282.0\n",
            "23        60  '2020/12/23'    130       101     300.0\n",
            "24        45  '2020/12/24'    105       132     246.0\n",
            "25        60  '2020/12/25'    102       126     334.5\n",
            "26        60      20201226    100       120     250.0\n",
            "27        60  '2020/12/27'     92       118     241.0\n",
            "28        60  '2020/12/28'    103       132       NaN\n",
            "29        60  '2020/12/29'    100       132     280.0\n",
            "30        60  '2020/12/30'    102       129     380.3\n",
            "31        60  '2020/12/31'     92       115     243.0\n",
            "\n",
            "\n",
            "Printing entire datatset\n",
            "    Duration          Date  Pulse  Maxpulse  Calories\n",
            "0         60  '2020/12/01'    110       130     409.1\n",
            "1         60  '2020/12/02'    117       145     479.0\n",
            "2         60  '2020/12/03'    103       135     340.0\n",
            "3         45  '2020/12/04'    109       175     282.4\n",
            "4         45  '2020/12/05'    117       148     406.0\n",
            "5         60  '2020/12/06'    102       127     300.0\n",
            "6         60  '2020/12/07'    110       136     374.0\n",
            "7        450  '2020/12/08'    104       134     253.3\n",
            "8         30  '2020/12/09'    109       133     195.1\n",
            "9         60  '2020/12/10'     98       124     269.0\n",
            "10        60  '2020/12/11'    103       147     329.3\n",
            "11        60  '2020/12/12'    100       120     250.7\n",
            "12        60  '2020/12/12'    100       120     250.7\n",
            "13        60  '2020/12/13'    106       128     345.3\n",
            "14        60  '2020/12/14'    104       132     379.3\n",
            "15        60  '2020/12/15'     98       123     275.0\n",
            "16        60  '2020/12/16'     98       120     215.2\n",
            "17        60  '2020/12/17'    100       120     300.0\n",
            "18        45  '2020/12/18'     90       112       NaN\n",
            "19        60  '2020/12/19'    103       123     323.0\n",
            "20        45  '2020/12/20'     97       125     243.0\n",
            "21        60  '2020/12/21'    108       131     364.2\n",
            "22        45           NaN    100       119     282.0\n",
            "23        60  '2020/12/23'    130       101     300.0\n",
            "24        45  '2020/12/24'    105       132     246.0\n",
            "25        60  '2020/12/25'    102       126     334.5\n",
            "26        60      20201226    100       120     250.0\n",
            "27        60  '2020/12/27'     92       118     241.0\n",
            "28        60  '2020/12/28'    103       132       NaN\n",
            "29        60  '2020/12/29'    100       132     280.0\n",
            "30        60  '2020/12/30'    102       129     380.3\n",
            "31        60  '2020/12/31'     92       115     243.0\n",
            "Printing the first five elements:\n",
            "    Duration          Date  Pulse  Maxpulse  Calories\n",
            "0        60  '2020/12/01'    110       130     409.1\n",
            "1        60  '2020/12/02'    117       145     479.0\n",
            "2        60  '2020/12/03'    103       135     340.0\n",
            "3        45  '2020/12/04'    109       175     282.4\n",
            "4        45  '2020/12/05'    117       148     406.0\n",
            "Printing the last five elements:\n",
            "     Duration          Date  Pulse  Maxpulse  Calories\n",
            "27        60  '2020/12/27'     92       118     241.0\n",
            "28        60  '2020/12/28'    103       132       NaN\n",
            "29        60  '2020/12/29'    100       132     280.0\n",
            "30        60  '2020/12/30'    102       129     380.3\n",
            "31        60  '2020/12/31'     92       115     243.0\n",
            "Size of dataset (32, 5)\n"
          ]
        }
      ],
      "source": [
        "import pandas as pd\n",
        "df4=pd.read_csv('data.csv')\n",
        "print(\"\\n\")\n",
        "print(df4)\n",
        "print(\"\\n\")\n",
        "print(\"Printing entire datatset\")\n",
        "print(df4.to_string())\n",
        "print(\"Printing the first five elements:\\n\",df4.head())\n",
        "print(\"Printing the last five elements:\\n\",df4.tail())\n",
        "print(\"Size of dataset\",df4.shape)"
      ],
      "id": "57lspAFd_ZJ-"
    },
    {
      "cell_type": "code",
      "execution_count": null,
      "metadata": {
        "id": "HO3qpW_9_ZJ_",
        "outputId": "6869524f-a4a5-4093-805e-6dd092bbf7e7"
      },
      "outputs": [
        {
          "data": {
            "text/html": [
              "<div>\n",
              "<style scoped>\n",
              "    .dataframe tbody tr th:only-of-type {\n",
              "        vertical-align: middle;\n",
              "    }\n",
              "\n",
              "    .dataframe tbody tr th {\n",
              "        vertical-align: top;\n",
              "    }\n",
              "\n",
              "    .dataframe thead th {\n",
              "        text-align: right;\n",
              "    }\n",
              "</style>\n",
              "<table border=\"1\" class=\"dataframe\">\n",
              "  <thead>\n",
              "    <tr style=\"text-align: right;\">\n",
              "      <th></th>\n",
              "      <th>Duration</th>\n",
              "      <th>Date</th>\n",
              "      <th>Pulse</th>\n",
              "      <th>Maxpulse</th>\n",
              "      <th>Calories</th>\n",
              "    </tr>\n",
              "  </thead>\n",
              "  <tbody>\n",
              "    <tr>\n",
              "      <th>0</th>\n",
              "      <td>False</td>\n",
              "      <td>False</td>\n",
              "      <td>False</td>\n",
              "      <td>False</td>\n",
              "      <td>False</td>\n",
              "    </tr>\n",
              "    <tr>\n",
              "      <th>1</th>\n",
              "      <td>False</td>\n",
              "      <td>False</td>\n",
              "      <td>False</td>\n",
              "      <td>False</td>\n",
              "      <td>False</td>\n",
              "    </tr>\n",
              "    <tr>\n",
              "      <th>2</th>\n",
              "      <td>False</td>\n",
              "      <td>False</td>\n",
              "      <td>False</td>\n",
              "      <td>False</td>\n",
              "      <td>False</td>\n",
              "    </tr>\n",
              "    <tr>\n",
              "      <th>3</th>\n",
              "      <td>False</td>\n",
              "      <td>False</td>\n",
              "      <td>False</td>\n",
              "      <td>False</td>\n",
              "      <td>False</td>\n",
              "    </tr>\n",
              "    <tr>\n",
              "      <th>4</th>\n",
              "      <td>False</td>\n",
              "      <td>False</td>\n",
              "      <td>False</td>\n",
              "      <td>False</td>\n",
              "      <td>False</td>\n",
              "    </tr>\n",
              "    <tr>\n",
              "      <th>5</th>\n",
              "      <td>False</td>\n",
              "      <td>False</td>\n",
              "      <td>False</td>\n",
              "      <td>False</td>\n",
              "      <td>False</td>\n",
              "    </tr>\n",
              "    <tr>\n",
              "      <th>6</th>\n",
              "      <td>False</td>\n",
              "      <td>False</td>\n",
              "      <td>False</td>\n",
              "      <td>False</td>\n",
              "      <td>False</td>\n",
              "    </tr>\n",
              "    <tr>\n",
              "      <th>7</th>\n",
              "      <td>False</td>\n",
              "      <td>False</td>\n",
              "      <td>False</td>\n",
              "      <td>False</td>\n",
              "      <td>False</td>\n",
              "    </tr>\n",
              "    <tr>\n",
              "      <th>8</th>\n",
              "      <td>False</td>\n",
              "      <td>False</td>\n",
              "      <td>False</td>\n",
              "      <td>False</td>\n",
              "      <td>False</td>\n",
              "    </tr>\n",
              "    <tr>\n",
              "      <th>9</th>\n",
              "      <td>False</td>\n",
              "      <td>False</td>\n",
              "      <td>False</td>\n",
              "      <td>False</td>\n",
              "      <td>False</td>\n",
              "    </tr>\n",
              "    <tr>\n",
              "      <th>10</th>\n",
              "      <td>False</td>\n",
              "      <td>False</td>\n",
              "      <td>False</td>\n",
              "      <td>False</td>\n",
              "      <td>False</td>\n",
              "    </tr>\n",
              "    <tr>\n",
              "      <th>11</th>\n",
              "      <td>False</td>\n",
              "      <td>False</td>\n",
              "      <td>False</td>\n",
              "      <td>False</td>\n",
              "      <td>False</td>\n",
              "    </tr>\n",
              "    <tr>\n",
              "      <th>12</th>\n",
              "      <td>False</td>\n",
              "      <td>False</td>\n",
              "      <td>False</td>\n",
              "      <td>False</td>\n",
              "      <td>False</td>\n",
              "    </tr>\n",
              "    <tr>\n",
              "      <th>13</th>\n",
              "      <td>False</td>\n",
              "      <td>False</td>\n",
              "      <td>False</td>\n",
              "      <td>False</td>\n",
              "      <td>False</td>\n",
              "    </tr>\n",
              "    <tr>\n",
              "      <th>14</th>\n",
              "      <td>False</td>\n",
              "      <td>False</td>\n",
              "      <td>False</td>\n",
              "      <td>False</td>\n",
              "      <td>False</td>\n",
              "    </tr>\n",
              "    <tr>\n",
              "      <th>15</th>\n",
              "      <td>False</td>\n",
              "      <td>False</td>\n",
              "      <td>False</td>\n",
              "      <td>False</td>\n",
              "      <td>False</td>\n",
              "    </tr>\n",
              "    <tr>\n",
              "      <th>16</th>\n",
              "      <td>False</td>\n",
              "      <td>False</td>\n",
              "      <td>False</td>\n",
              "      <td>False</td>\n",
              "      <td>False</td>\n",
              "    </tr>\n",
              "    <tr>\n",
              "      <th>17</th>\n",
              "      <td>False</td>\n",
              "      <td>False</td>\n",
              "      <td>False</td>\n",
              "      <td>False</td>\n",
              "      <td>False</td>\n",
              "    </tr>\n",
              "    <tr>\n",
              "      <th>18</th>\n",
              "      <td>False</td>\n",
              "      <td>False</td>\n",
              "      <td>False</td>\n",
              "      <td>False</td>\n",
              "      <td>True</td>\n",
              "    </tr>\n",
              "    <tr>\n",
              "      <th>19</th>\n",
              "      <td>False</td>\n",
              "      <td>False</td>\n",
              "      <td>False</td>\n",
              "      <td>False</td>\n",
              "      <td>False</td>\n",
              "    </tr>\n",
              "    <tr>\n",
              "      <th>20</th>\n",
              "      <td>False</td>\n",
              "      <td>False</td>\n",
              "      <td>False</td>\n",
              "      <td>False</td>\n",
              "      <td>False</td>\n",
              "    </tr>\n",
              "    <tr>\n",
              "      <th>21</th>\n",
              "      <td>False</td>\n",
              "      <td>False</td>\n",
              "      <td>False</td>\n",
              "      <td>False</td>\n",
              "      <td>False</td>\n",
              "    </tr>\n",
              "    <tr>\n",
              "      <th>22</th>\n",
              "      <td>False</td>\n",
              "      <td>True</td>\n",
              "      <td>False</td>\n",
              "      <td>False</td>\n",
              "      <td>False</td>\n",
              "    </tr>\n",
              "    <tr>\n",
              "      <th>23</th>\n",
              "      <td>False</td>\n",
              "      <td>False</td>\n",
              "      <td>False</td>\n",
              "      <td>False</td>\n",
              "      <td>False</td>\n",
              "    </tr>\n",
              "    <tr>\n",
              "      <th>24</th>\n",
              "      <td>False</td>\n",
              "      <td>False</td>\n",
              "      <td>False</td>\n",
              "      <td>False</td>\n",
              "      <td>False</td>\n",
              "    </tr>\n",
              "    <tr>\n",
              "      <th>25</th>\n",
              "      <td>False</td>\n",
              "      <td>False</td>\n",
              "      <td>False</td>\n",
              "      <td>False</td>\n",
              "      <td>False</td>\n",
              "    </tr>\n",
              "    <tr>\n",
              "      <th>26</th>\n",
              "      <td>False</td>\n",
              "      <td>False</td>\n",
              "      <td>False</td>\n",
              "      <td>False</td>\n",
              "      <td>False</td>\n",
              "    </tr>\n",
              "    <tr>\n",
              "      <th>27</th>\n",
              "      <td>False</td>\n",
              "      <td>False</td>\n",
              "      <td>False</td>\n",
              "      <td>False</td>\n",
              "      <td>False</td>\n",
              "    </tr>\n",
              "    <tr>\n",
              "      <th>28</th>\n",
              "      <td>False</td>\n",
              "      <td>False</td>\n",
              "      <td>False</td>\n",
              "      <td>False</td>\n",
              "      <td>True</td>\n",
              "    </tr>\n",
              "    <tr>\n",
              "      <th>29</th>\n",
              "      <td>False</td>\n",
              "      <td>False</td>\n",
              "      <td>False</td>\n",
              "      <td>False</td>\n",
              "      <td>False</td>\n",
              "    </tr>\n",
              "    <tr>\n",
              "      <th>30</th>\n",
              "      <td>False</td>\n",
              "      <td>False</td>\n",
              "      <td>False</td>\n",
              "      <td>False</td>\n",
              "      <td>False</td>\n",
              "    </tr>\n",
              "    <tr>\n",
              "      <th>31</th>\n",
              "      <td>False</td>\n",
              "      <td>False</td>\n",
              "      <td>False</td>\n",
              "      <td>False</td>\n",
              "      <td>False</td>\n",
              "    </tr>\n",
              "  </tbody>\n",
              "</table>\n",
              "</div>"
            ],
            "text/plain": [
              "    Duration   Date  Pulse  Maxpulse  Calories\n",
              "0      False  False  False     False     False\n",
              "1      False  False  False     False     False\n",
              "2      False  False  False     False     False\n",
              "3      False  False  False     False     False\n",
              "4      False  False  False     False     False\n",
              "5      False  False  False     False     False\n",
              "6      False  False  False     False     False\n",
              "7      False  False  False     False     False\n",
              "8      False  False  False     False     False\n",
              "9      False  False  False     False     False\n",
              "10     False  False  False     False     False\n",
              "11     False  False  False     False     False\n",
              "12     False  False  False     False     False\n",
              "13     False  False  False     False     False\n",
              "14     False  False  False     False     False\n",
              "15     False  False  False     False     False\n",
              "16     False  False  False     False     False\n",
              "17     False  False  False     False     False\n",
              "18     False  False  False     False      True\n",
              "19     False  False  False     False     False\n",
              "20     False  False  False     False     False\n",
              "21     False  False  False     False     False\n",
              "22     False   True  False     False     False\n",
              "23     False  False  False     False     False\n",
              "24     False  False  False     False     False\n",
              "25     False  False  False     False     False\n",
              "26     False  False  False     False     False\n",
              "27     False  False  False     False     False\n",
              "28     False  False  False     False      True\n",
              "29     False  False  False     False     False\n",
              "30     False  False  False     False     False\n",
              "31     False  False  False     False     False"
            ]
          },
          "execution_count": 84,
          "metadata": {},
          "output_type": "execute_result"
        }
      ],
      "source": [
        "df4.isnull()"
      ],
      "id": "HO3qpW_9_ZJ_"
    },
    {
      "cell_type": "code",
      "execution_count": null,
      "metadata": {
        "id": "ODZCVhda_ZJ_",
        "outputId": "8e77ec08-280d-4c94-858c-9e2a169fba04"
      },
      "outputs": [
        {
          "name": "stdout",
          "output_type": "stream",
          "text": [
            "    Duration          Date  Pulse  Maxpulse  Calories\n",
            "0         60  '2020/12/01'    110       130     409.1\n",
            "1         60  '2020/12/02'    117       145     479.0\n",
            "2         60  '2020/12/03'    103       135     340.0\n",
            "3         45  '2020/12/04'    109       175     282.4\n",
            "4         45  '2020/12/05'    117       148     406.0\n",
            "5         60  '2020/12/06'    102       127     300.0\n",
            "6         60  '2020/12/07'    110       136     374.0\n",
            "7        450  '2020/12/08'    104       134     253.3\n",
            "8         30  '2020/12/09'    109       133     195.1\n",
            "9         60  '2020/12/10'     98       124     269.0\n",
            "10        60  '2020/12/11'    103       147     329.3\n",
            "11        60  '2020/12/12'    100       120     250.7\n",
            "12        60  '2020/12/12'    100       120     250.7\n",
            "13        60  '2020/12/13'    106       128     345.3\n",
            "14        60  '2020/12/14'    104       132     379.3\n",
            "15        60  '2020/12/15'     98       123     275.0\n",
            "16        60  '2020/12/16'     98       120     215.2\n",
            "17        60  '2020/12/17'    100       120     300.0\n",
            "19        60  '2020/12/19'    103       123     323.0\n",
            "20        45  '2020/12/20'     97       125     243.0\n",
            "21        60  '2020/12/21'    108       131     364.2\n",
            "23        60  '2020/12/23'    130       101     300.0\n",
            "24        45  '2020/12/24'    105       132     246.0\n",
            "25        60  '2020/12/25'    102       126     334.5\n",
            "26        60      20201226    100       120     250.0\n",
            "27        60  '2020/12/27'     92       118     241.0\n",
            "29        60  '2020/12/29'    100       132     280.0\n",
            "30        60  '2020/12/30'    102       129     380.3\n",
            "31        60  '2020/12/31'     92       115     243.0\n"
          ]
        }
      ],
      "source": [
        "new_df=df4.dropna()\n",
        "#to change original \n",
        "df4.dropna(inplace=True)#remove all entries containing null values\n",
        "print(df4.to_string())"
      ],
      "id": "ODZCVhda_ZJ_"
    },
    {
      "cell_type": "code",
      "execution_count": null,
      "metadata": {
        "id": "xJSvoNi-_ZJ_",
        "outputId": "7ae76eca-93d0-4a4f-b7fc-e63801a79c61"
      },
      "outputs": [
        {
          "name": "stdout",
          "output_type": "stream",
          "text": [
            "    Duration          Date  Pulse  Maxpulse  Calories\n",
            "0         60  '2020/12/01'    110       130     409.1\n",
            "1         60  '2020/12/02'    117       145     479.0\n",
            "2         60  '2020/12/03'    103       135     340.0\n",
            "3         45  '2020/12/04'    109       175     282.4\n",
            "4         45  '2020/12/05'    117       148     406.0\n",
            "5         60  '2020/12/06'    102       127     300.0\n",
            "6         60  '2020/12/07'    110       136     374.0\n",
            "7        450  '2020/12/08'    104       134     253.3\n",
            "8         30  '2020/12/09'    109       133     195.1\n",
            "9         60  '2020/12/10'     98       124     269.0\n",
            "10        60  '2020/12/11'    103       147     329.3\n",
            "11        60  '2020/12/12'    100       120     250.7\n",
            "12        60  '2020/12/12'    100       120     250.7\n",
            "13        60  '2020/12/13'    106       128     345.3\n",
            "14        60  '2020/12/14'    104       132     379.3\n",
            "15        60  '2020/12/15'     98       123     275.0\n",
            "16        60  '2020/12/16'     98       120     215.2\n",
            "17        60  '2020/12/17'    100       120     300.0\n",
            "18        45  '2020/12/18'     90       112     130.0\n",
            "19        60  '2020/12/19'    103       123     323.0\n",
            "20        45  '2020/12/20'     97       125     243.0\n",
            "21        60  '2020/12/21'    108       131     364.2\n",
            "22        45           130    100       119     282.0\n",
            "23        60  '2020/12/23'    130       101     300.0\n",
            "24        45  '2020/12/24'    105       132     246.0\n",
            "25        60  '2020/12/25'    102       126     334.5\n",
            "26        60      20201226    100       120     250.0\n",
            "27        60  '2020/12/27'     92       118     241.0\n",
            "28        60  '2020/12/28'    103       132     130.0\n",
            "29        60  '2020/12/29'    100       132     280.0\n",
            "30        60  '2020/12/30'    102       129     380.3\n",
            "31        60  '2020/12/31'     92       115     243.0\n"
          ]
        }
      ],
      "source": [
        "#replace empty values\n",
        "import pandas as pd\n",
        "df5=pd.read_csv('data.csv')\n",
        "df5.fillna(130,inplace=True)\n",
        "print(df5)"
      ],
      "id": "xJSvoNi-_ZJ_"
    },
    {
      "cell_type": "code",
      "execution_count": null,
      "metadata": {
        "id": "bJkonxUN_ZKA",
        "outputId": "68664aba-42fe-4d8d-938e-96378012df3c"
      },
      "outputs": [
        {
          "name": "stdout",
          "output_type": "stream",
          "text": [
            "    Duration          Date  Pulse  Maxpulse  Calories\n",
            "0         60  '2020/12/01'    110       130     409.1\n",
            "1         60  '2020/12/02'    117       145     479.0\n",
            "2         60  '2020/12/03'    103       135     340.0\n",
            "3         45  '2020/12/04'    109       175     282.4\n",
            "4         45  '2020/12/05'    117       148     406.0\n",
            "5         60  '2020/12/06'    102       127     300.0\n",
            "6         60  '2020/12/07'    110       136     374.0\n",
            "7        450  '2020/12/08'    104       134     253.3\n",
            "8         30  '2020/12/09'    109       133     195.1\n",
            "9         60  '2020/12/10'     98       124     269.0\n",
            "10        60  '2020/12/11'    103       147     329.3\n",
            "11        60  '2020/12/12'    100       120     250.7\n",
            "12        60  '2020/12/12'    100       120     250.7\n",
            "13        60  '2020/12/13'    106       128     345.3\n",
            "14        60  '2020/12/14'    104       132     379.3\n",
            "15        60  '2020/12/15'     98       123     275.0\n",
            "16        60  '2020/12/16'     98       120     215.2\n",
            "17        60  '2020/12/17'    100       120     300.0\n",
            "18        45  '2020/12/18'     90       112     130.0\n",
            "19        60  '2020/12/19'    103       123     323.0\n",
            "20        45  '2020/12/20'     97       125     243.0\n",
            "21        60  '2020/12/21'    108       131     364.2\n",
            "22        45           NaN    100       119     282.0\n",
            "23        60  '2020/12/23'    130       101     300.0\n",
            "24        45  '2020/12/24'    105       132     246.0\n",
            "25        60  '2020/12/25'    102       126     334.5\n",
            "26        60      20201226    100       120     250.0\n",
            "27        60  '2020/12/27'     92       118     241.0\n",
            "28        60  '2020/12/28'    103       132     130.0\n",
            "29        60  '2020/12/29'    100       132     280.0\n",
            "30        60  '2020/12/30'    102       129     380.3\n",
            "31        60  '2020/12/31'     92       115     243.0\n"
          ]
        }
      ],
      "source": [
        "#replace only on specified columns\n",
        "import pandas as pd\n",
        "df5=pd.read_csv('data.csv')\n",
        "df5[\"Calories\"].fillna(130,inplace=True)\n",
        "\n",
        "print(df5)"
      ],
      "id": "bJkonxUN_ZKA"
    },
    {
      "cell_type": "code",
      "execution_count": null,
      "metadata": {
        "id": "RFpFcTJc_ZKA",
        "outputId": "4e0db3b9-16f0-427b-d1e2-d5d2c6831606"
      },
      "outputs": [
        {
          "name": "stdout",
          "output_type": "stream",
          "text": [
            "    Duration          Date  Pulse  Maxpulse  Calories\n",
            "0         60  '2020/12/01'    110       130     409.1\n",
            "1         60  '2020/12/02'    117       145     479.0\n",
            "2         60  '2020/12/03'    103       135     340.0\n",
            "3         45  '2020/12/04'    109       175     282.4\n",
            "4         45  '2020/12/05'    117       148     406.0\n",
            "5         60  '2020/12/06'    102       127     300.0\n",
            "6         60  '2020/12/07'    110       136     374.0\n",
            "7        450  '2020/12/08'    104       134     253.3\n",
            "8         30  '2020/12/09'    109       133     195.1\n",
            "9         60  '2020/12/10'     98       124     269.0\n",
            "10        60  '2020/12/11'    103       147     329.3\n",
            "11        60  '2020/12/12'    100       120     250.7\n",
            "13        60  '2020/12/13'    106       128     345.3\n",
            "14        60  '2020/12/14'    104       132     379.3\n",
            "15        60  '2020/12/15'     98       123     275.0\n",
            "16        60  '2020/12/16'     98       120     215.2\n",
            "17        60  '2020/12/17'    100       120     300.0\n",
            "18        45  '2020/12/18'     90       112     130.0\n",
            "19        60  '2020/12/19'    103       123     323.0\n",
            "20        45  '2020/12/20'     97       125     243.0\n",
            "21        60  '2020/12/21'    108       131     364.2\n",
            "22        45           NaN    100       119     282.0\n",
            "23        60  '2020/12/23'    130       101     300.0\n",
            "24        45  '2020/12/24'    105       132     246.0\n",
            "25        60  '2020/12/25'    102       126     334.5\n",
            "26        60      20201226    100       120     250.0\n",
            "27        60  '2020/12/27'     92       118     241.0\n",
            "28        60  '2020/12/28'    103       132     130.0\n",
            "29        60  '2020/12/29'    100       132     280.0\n",
            "30        60  '2020/12/30'    102       129     380.3\n",
            "31        60  '2020/12/31'     92       115     243.0\n"
          ]
        }
      ],
      "source": [
        "#drop duplicates\n",
        "df5.drop_duplicates(inplace=True)\n",
        "print(df5)"
      ],
      "id": "RFpFcTJc_ZKA"
    },
    {
      "cell_type": "code",
      "execution_count": null,
      "metadata": {
        "id": "jejW6Yh7_ZKB"
      },
      "outputs": [],
      "source": [
        ""
      ],
      "id": "jejW6Yh7_ZKB"
    }
  ],
  "metadata": {
    "kernelspec": {
      "display_name": "Python 3",
      "language": "python",
      "name": "python3"
    },
    "language_info": {
      "codemirror_mode": {
        "name": "ipython",
        "version": 3
      },
      "file_extension": ".py",
      "mimetype": "text/x-python",
      "name": "python",
      "nbconvert_exporter": "python",
      "pygments_lexer": "ipython3",
      "version": "3.8.5"
    },
    "colab": {
      "name": "6/01/22.ipynb",
      "provenance": []
    }
  },
  "nbformat": 4,
  "nbformat_minor": 5
}